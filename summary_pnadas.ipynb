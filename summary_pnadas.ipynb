{
 "cells": [
  {
   "cell_type": "markdown",
   "metadata": {},
   "source": [
    "# Pandas"
   ]
  },
  {
   "cell_type": "code",
   "execution_count": 2,
   "metadata": {
    "collapsed": true
   },
   "outputs": [],
   "source": [
    "import pandas as pd"
   ]
  },
  {
   "cell_type": "markdown",
   "metadata": {},
   "source": [
    "# 1. Data Type"
   ]
  },
  {
   "cell_type": "code",
   "execution_count": 36,
   "metadata": {
    "collapsed": false
   },
   "outputs": [
    {
     "data": {
      "text/plain": [
       "['dog', 'cat', 'iguana']"
      ]
     },
     "execution_count": 36,
     "metadata": {},
     "output_type": "execute_result"
    }
   ],
   "source": [
    "# Data Type 1 : Series\n",
    "pd.Series()\n",
    "animals_series = pd.Series([\"dog\", \"cat\", \"iguana\"])\n",
    "animals_series[2:]\n",
    "list(animals_series)"
   ]
  },
  {
   "cell_type": "code",
   "execution_count": 41,
   "metadata": {
    "collapsed": false
   },
   "outputs": [
    {
     "data": {
      "text/html": [
       "<div>\n",
       "<table border=\"1\" class=\"dataframe\">\n",
       "  <thead>\n",
       "    <tr style=\"text-align: right;\">\n",
       "      <th></th>\n",
       "      <th>Email</th>\n",
       "      <th>Name</th>\n",
       "    </tr>\n",
       "  </thead>\n",
       "  <tbody>\n",
       "    <tr>\n",
       "      <th>0</th>\n",
       "      <td>pdj1224@gmail.com</td>\n",
       "      <td>Doojin Park</td>\n",
       "    </tr>\n",
       "    <tr>\n",
       "      <th>1</th>\n",
       "      <td>radajin1224@gmail.com</td>\n",
       "      <td>Radajin</td>\n",
       "    </tr>\n",
       "  </tbody>\n",
       "</table>\n",
       "</div>"
      ],
      "text/plain": [
       "                   Email         Name\n",
       "0      pdj1224@gmail.com  Doojin Park\n",
       "1  radajin1224@gmail.com      Radajin"
      ]
     },
     "execution_count": 41,
     "metadata": {},
     "output_type": "execute_result"
    }
   ],
   "source": [
    "# Data Type 2 : DataFrame\n",
    "\n",
    "# make DataFrame as columns name\n",
    "df = pd.DataFrame(columns=[\"Email\",\"Name\"])\n",
    "\n",
    "# make DataFrame as dictionary list\n",
    "name = [\"Doojin Park\",\"Radajin\"]\n",
    "email = [\"pdj1224@gmail.com\",\"radajin1224@gmail.com\"]\n",
    "df = pd.DataFrame({\"Name\":name,\"Email\":email})\n",
    "df"
   ]
  },
  {
   "cell_type": "code",
   "execution_count": 33,
   "metadata": {
    "collapsed": false
   },
   "outputs": [
    {
     "data": {
      "text/plain": [
       "pandas.core.series.Series"
      ]
     },
     "execution_count": 33,
     "metadata": {},
     "output_type": "execute_result"
    }
   ],
   "source": [
    "# row of data frame is series\n",
    "type(df.loc[1])"
   ]
  },
  {
   "cell_type": "code",
   "execution_count": 34,
   "metadata": {
    "collapsed": false
   },
   "outputs": [
    {
     "name": "stdout",
     "output_type": "stream",
     "text": [
      "0    Doojin Park\n",
      "1        Radajin\n",
      "Name: Name, dtype: object\n",
      "0    Doojin Park\n",
      "1        Radajin\n",
      "Name: Name, dtype: object\n"
     ]
    }
   ],
   "source": [
    "# get column from DataFrame\n",
    "print(df[\"Name\"])\n",
    "print(df.Name)"
   ]
  },
  {
   "cell_type": "code",
   "execution_count": 35,
   "metadata": {
    "collapsed": false
   },
   "outputs": [
    {
     "data": {
      "text/plain": [
       "Email    radajin1224@gmail.com\n",
       "Name                   Radajin\n",
       "Name: 1, dtype: object"
      ]
     },
     "execution_count": 35,
     "metadata": {},
     "output_type": "execute_result"
    }
   ],
   "source": [
    "# get row from Data Frame\n",
    "df.loc[1]"
   ]
  },
  {
   "cell_type": "markdown",
   "metadata": {},
   "source": [
    "# 2. Insert"
   ]
  },
  {
   "cell_type": "code",
   "execution_count": 40,
   "metadata": {
    "collapsed": false
   },
   "outputs": [
    {
     "data": {
      "text/html": [
       "<div>\n",
       "<table border=\"1\" class=\"dataframe\">\n",
       "  <thead>\n",
       "    <tr style=\"text-align: right;\">\n",
       "      <th></th>\n",
       "      <th>Email</th>\n",
       "      <th>Name</th>\n",
       "    </tr>\n",
       "  </thead>\n",
       "  <tbody>\n",
       "    <tr>\n",
       "      <th>0</th>\n",
       "      <td>pdj1224@gmail.com</td>\n",
       "      <td>Doojin Park</td>\n",
       "    </tr>\n",
       "    <tr>\n",
       "      <th>1</th>\n",
       "      <td>radajin1224@gmail.com</td>\n",
       "      <td>Radajin</td>\n",
       "    </tr>\n",
       "    <tr>\n",
       "      <th>2</th>\n",
       "      <td>dobestan@gmail.com</td>\n",
       "      <td>Ansu Charn</td>\n",
       "    </tr>\n",
       "  </tbody>\n",
       "</table>\n",
       "</div>"
      ],
      "text/plain": [
       "                   Email         Name\n",
       "0      pdj1224@gmail.com  Doojin Park\n",
       "1  radajin1224@gmail.com      Radajin\n",
       "2     dobestan@gmail.com   Ansu Charn"
      ]
     },
     "execution_count": 40,
     "metadata": {},
     "output_type": "execute_result"
    }
   ],
   "source": [
    "# insert dictionary data\n",
    "df.loc[2] = {\"Name\":\"Ansu Charn\", \"Email\":\"dobestan@gmail.com\"}\n",
    "df"
   ]
  },
  {
   "cell_type": "code",
   "execution_count": 47,
   "metadata": {
    "collapsed": false
   },
   "outputs": [],
   "source": [
    "# add Column\n",
    "df[\"Address\"] = \"\"\n",
    "\n",
    "# remove Column\n",
    "# inplace=True : adapt DataFrame directly\n",
    "# axis=1 : append width (default : axis=0)\n",
    "df.drop('Address', axis=1, inplace=True) \n",
    "\n",
    "# insert new Column Data (using functional programing)\n",
    "\n",
    "# first method\n",
    "def get_address(name):\n",
    "    return \"Mapo Cobion (\" + name + \")\"\n",
    "df[\"Address\"] = df[\"Name\"].apply(get_address)\n",
    "\n",
    "# second method (using lambda)\n",
    "df[\"Address\"] = df[\"Name\"].apply(lambda name: \"Mapo Cobion (\" + name + \")\")"
   ]
  },
  {
   "cell_type": "markdown",
   "metadata": {},
   "source": [
    "# 3. Append"
   ]
  },
  {
   "cell_type": "code",
   "execution_count": 51,
   "metadata": {
    "collapsed": false
   },
   "outputs": [
    {
     "name": "stdout",
     "output_type": "stream",
     "text": [
      "   Age         Name\n",
      "0   30  A 회사 직원 (1)\n",
      "1   28  A 회사 직원 (2)\n",
      "   Age         Name\n",
      "0   32  B 회사 직원 (1)\n",
      "1   26  B 회사 직원 (2)\n"
     ]
    }
   ],
   "source": [
    "# make sample data\n",
    "a_df = pd.DataFrame([\n",
    "        {\n",
    "            \"Name\" : \"A 회사 직원 (1)\",\n",
    "            \"Age\" : 30,\n",
    "        },\n",
    "        {\n",
    "            \"Name\" : \"A 회사 직원 (2)\",\n",
    "            \"Age\" : 28,\n",
    "        }\n",
    "    ])\n",
    "\n",
    "b_df = pd.DataFrame([\n",
    "        {\n",
    "            \"Name\" : \"B 회사 직원 (1)\",\n",
    "            \"Age\" : 32,\n",
    "        },\n",
    "        {\n",
    "            \"Name\" : \"B 회사 직원 (2)\",\n",
    "            \"Age\" : 26,\n",
    "        }\n",
    "    ])\n",
    "\n",
    "print(a_df)\n",
    "print(b_df)"
   ]
  },
  {
   "cell_type": "code",
   "execution_count": 52,
   "metadata": {
    "collapsed": false
   },
   "outputs": [
    {
     "data": {
      "text/html": [
       "<div>\n",
       "<table border=\"1\" class=\"dataframe\">\n",
       "  <thead>\n",
       "    <tr style=\"text-align: right;\">\n",
       "      <th></th>\n",
       "      <th>Age</th>\n",
       "      <th>Name</th>\n",
       "    </tr>\n",
       "  </thead>\n",
       "  <tbody>\n",
       "    <tr>\n",
       "      <th>0</th>\n",
       "      <td>30</td>\n",
       "      <td>A 회사 직원 (1)</td>\n",
       "    </tr>\n",
       "    <tr>\n",
       "      <th>1</th>\n",
       "      <td>28</td>\n",
       "      <td>A 회사 직원 (2)</td>\n",
       "    </tr>\n",
       "    <tr>\n",
       "      <th>0</th>\n",
       "      <td>32</td>\n",
       "      <td>B 회사 직원 (1)</td>\n",
       "    </tr>\n",
       "    <tr>\n",
       "      <th>1</th>\n",
       "      <td>26</td>\n",
       "      <td>B 회사 직원 (2)</td>\n",
       "    </tr>\n",
       "  </tbody>\n",
       "</table>\n",
       "</div>"
      ],
      "text/plain": [
       "   Age         Name\n",
       "0   30  A 회사 직원 (1)\n",
       "1   28  A 회사 직원 (2)\n",
       "0   32  B 회사 직원 (1)\n",
       "1   26  B 회사 직원 (2)"
      ]
     },
     "execution_count": 52,
     "metadata": {},
     "output_type": "execute_result"
    }
   ],
   "source": [
    "# append\n",
    "ab_df = a_df.append(b_df)\n",
    "ab_df"
   ]
  },
  {
   "cell_type": "code",
   "execution_count": 53,
   "metadata": {
    "collapsed": false
   },
   "outputs": [
    {
     "data": {
      "text/html": [
       "<div>\n",
       "<table border=\"1\" class=\"dataframe\">\n",
       "  <thead>\n",
       "    <tr style=\"text-align: right;\">\n",
       "      <th></th>\n",
       "      <th>Age</th>\n",
       "      <th>Name</th>\n",
       "    </tr>\n",
       "  </thead>\n",
       "  <tbody>\n",
       "    <tr>\n",
       "      <th>0</th>\n",
       "      <td>30</td>\n",
       "      <td>A 회사 직원 (1)</td>\n",
       "    </tr>\n",
       "    <tr>\n",
       "      <th>1</th>\n",
       "      <td>28</td>\n",
       "      <td>A 회사 직원 (2)</td>\n",
       "    </tr>\n",
       "    <tr>\n",
       "      <th>2</th>\n",
       "      <td>32</td>\n",
       "      <td>B 회사 직원 (1)</td>\n",
       "    </tr>\n",
       "    <tr>\n",
       "      <th>3</th>\n",
       "      <td>26</td>\n",
       "      <td>B 회사 직원 (2)</td>\n",
       "    </tr>\n",
       "  </tbody>\n",
       "</table>\n",
       "</div>"
      ],
      "text/plain": [
       "   Age         Name\n",
       "0   30  A 회사 직원 (1)\n",
       "1   28  A 회사 직원 (2)\n",
       "2   32  B 회사 직원 (1)\n",
       "3   26  B 회사 직원 (2)"
      ]
     },
     "execution_count": 53,
     "metadata": {},
     "output_type": "execute_result"
    }
   ],
   "source": [
    "# reindex\n",
    "ab_df.reset_index(drop=True, inplace=True)\n",
    "ab_df"
   ]
  },
  {
   "cell_type": "markdown",
   "metadata": {},
   "source": [
    "# 4. Concat"
   ]
  },
  {
   "cell_type": "code",
   "execution_count": 55,
   "metadata": {
    "collapsed": false
   },
   "outputs": [
    {
     "name": "stdout",
     "output_type": "stream",
     "text": [
      "   Age             Name Company\n",
      "0   30  Kakao 회사 직원 (1)   Kakao\n",
      "1   28  Kakao 회사 직원 (2)   Kakao\n",
      "   Age            Name Company\n",
      "0   32  Daum 회사 직원 (1)    Daum\n",
      "1   26  Daum 회사 직원 (2)    Daum\n"
     ]
    }
   ],
   "source": [
    "# make sample data\n",
    "k_df = pd.DataFrame([\n",
    "        {\n",
    "            \"Name\" : \"Kakao 회사 직원 (1)\",\n",
    "            \"Age\" : 30,\n",
    "        },\n",
    "        {\n",
    "            \"Name\" : \"Kakao 회사 직원 (2)\",\n",
    "            \"Age\" : 28,\n",
    "        }\n",
    "    ])\n",
    "\n",
    "d_df = pd.DataFrame([\n",
    "        {\n",
    "            \"Name\" : \"Daum 회사 직원 (1)\",\n",
    "            \"Age\" : 32,\n",
    "        },\n",
    "        {\n",
    "            \"Name\" : \"Daum 회사 직원 (2)\",\n",
    "            \"Age\" : 26,\n",
    "        }\n",
    "    ])\n",
    "\n",
    "k_df[\"Company\"] = \"Kakao\"\n",
    "d_df[\"Company\"] = \"Daum\"\n",
    "\n",
    "print(k_df)\n",
    "print(d_df)"
   ]
  },
  {
   "cell_type": "code",
   "execution_count": 57,
   "metadata": {
    "collapsed": false
   },
   "outputs": [
    {
     "data": {
      "text/html": [
       "<div>\n",
       "<table border=\"1\" class=\"dataframe\">\n",
       "  <thead>\n",
       "    <tr style=\"text-align: right;\">\n",
       "      <th></th>\n",
       "      <th>Age</th>\n",
       "      <th>Name</th>\n",
       "      <th>Company</th>\n",
       "    </tr>\n",
       "  </thead>\n",
       "  <tbody>\n",
       "    <tr>\n",
       "      <th>0</th>\n",
       "      <td>30</td>\n",
       "      <td>Kakao 회사 직원 (1)</td>\n",
       "      <td>Kakao</td>\n",
       "    </tr>\n",
       "    <tr>\n",
       "      <th>1</th>\n",
       "      <td>28</td>\n",
       "      <td>Kakao 회사 직원 (2)</td>\n",
       "      <td>Kakao</td>\n",
       "    </tr>\n",
       "    <tr>\n",
       "      <th>2</th>\n",
       "      <td>32</td>\n",
       "      <td>Daum 회사 직원 (1)</td>\n",
       "      <td>Daum</td>\n",
       "    </tr>\n",
       "    <tr>\n",
       "      <th>3</th>\n",
       "      <td>26</td>\n",
       "      <td>Daum 회사 직원 (2)</td>\n",
       "      <td>Daum</td>\n",
       "    </tr>\n",
       "  </tbody>\n",
       "</table>\n",
       "</div>"
      ],
      "text/plain": [
       "   Age             Name Company\n",
       "0   30  Kakao 회사 직원 (1)   Kakao\n",
       "1   28  Kakao 회사 직원 (2)   Kakao\n",
       "2   32   Daum 회사 직원 (1)    Daum\n",
       "3   26   Daum 회사 직원 (2)    Daum"
      ]
     },
     "execution_count": 57,
     "metadata": {},
     "output_type": "execute_result"
    }
   ],
   "source": [
    "# concat (k_df & d_df)\n",
    "kd_df = pd.concat([k_df, d_df]).reset_index(drop=True)\n",
    "kd_df"
   ]
  },
  {
   "cell_type": "code",
   "execution_count": 58,
   "metadata": {
    "collapsed": false
   },
   "outputs": [
    {
     "data": {
      "text/html": [
       "<div>\n",
       "<table border=\"1\" class=\"dataframe\">\n",
       "  <thead>\n",
       "    <tr style=\"text-align: right;\">\n",
       "      <th></th>\n",
       "      <th></th>\n",
       "      <th>Age</th>\n",
       "      <th>Name</th>\n",
       "    </tr>\n",
       "  </thead>\n",
       "  <tbody>\n",
       "    <tr>\n",
       "      <th rowspan=\"2\" valign=\"top\">Kakao</th>\n",
       "      <th>0</th>\n",
       "      <td>30</td>\n",
       "      <td>A 회사 직원 (1)</td>\n",
       "    </tr>\n",
       "    <tr>\n",
       "      <th>1</th>\n",
       "      <td>28</td>\n",
       "      <td>A 회사 직원 (2)</td>\n",
       "    </tr>\n",
       "    <tr>\n",
       "      <th rowspan=\"2\" valign=\"top\">Daum</th>\n",
       "      <th>0</th>\n",
       "      <td>32</td>\n",
       "      <td>B 회사 직원 (1)</td>\n",
       "    </tr>\n",
       "    <tr>\n",
       "      <th>1</th>\n",
       "      <td>26</td>\n",
       "      <td>B 회사 직원 (2)</td>\n",
       "    </tr>\n",
       "  </tbody>\n",
       "</table>\n",
       "</div>"
      ],
      "text/plain": [
       "         Age         Name\n",
       "Kakao 0   30  A 회사 직원 (1)\n",
       "      1   28  A 회사 직원 (2)\n",
       "Daum  0   32  B 회사 직원 (1)\n",
       "      1   26  B 회사 직원 (2)"
      ]
     },
     "execution_count": 58,
     "metadata": {},
     "output_type": "execute_result"
    }
   ],
   "source": [
    "# concat with keys\n",
    "ab_df = pd.concat([a_df, b_df], keys=[\"Kakao\", \"Daum\"])\n",
    "ab_df"
   ]
  },
  {
   "cell_type": "code",
   "execution_count": 63,
   "metadata": {
    "collapsed": false
   },
   "outputs": [
    {
     "data": {
      "text/plain": [
       "'A 회사 직원 (2)'"
      ]
     },
     "execution_count": 63,
     "metadata": {},
     "output_type": "execute_result"
    }
   ],
   "source": [
    "# select Kakao second employer's name\n",
    "ab_df.loc[\"Kakao\"].loc[1][\"Name\"]"
   ]
  },
  {
   "cell_type": "code",
   "execution_count": 67,
   "metadata": {
    "collapsed": false
   },
   "outputs": [
    {
     "name": "stdout",
     "output_type": "stream",
     "text": [
      "               Email    Name\n",
      "0      pdj@gmail.com  Doojin\n",
      "1  radajin@gmail.com    Rada\n",
      "  Address\n",
      "0   Seoul\n",
      "1   Busan\n"
     ]
    },
    {
     "data": {
      "text/html": [
       "<div>\n",
       "<table border=\"1\" class=\"dataframe\">\n",
       "  <thead>\n",
       "    <tr style=\"text-align: right;\">\n",
       "      <th></th>\n",
       "      <th>Email</th>\n",
       "      <th>Name</th>\n",
       "      <th>Address</th>\n",
       "    </tr>\n",
       "  </thead>\n",
       "  <tbody>\n",
       "    <tr>\n",
       "      <th>0</th>\n",
       "      <td>pdj@gmail.com</td>\n",
       "      <td>Doojin</td>\n",
       "      <td>Seoul</td>\n",
       "    </tr>\n",
       "    <tr>\n",
       "      <th>1</th>\n",
       "      <td>radajin@gmail.com</td>\n",
       "      <td>Rada</td>\n",
       "      <td>Busan</td>\n",
       "    </tr>\n",
       "  </tbody>\n",
       "</table>\n",
       "</div>"
      ],
      "text/plain": [
       "               Email    Name Address\n",
       "0      pdj@gmail.com  Doojin   Seoul\n",
       "1  radajin@gmail.com    Rada   Busan"
      ]
     },
     "execution_count": 67,
     "metadata": {},
     "output_type": "execute_result"
    }
   ],
   "source": [
    "# concat columns\n",
    "name_age_df = pd.DataFrame([\n",
    "        {\n",
    "            \"Name\":\"Doojin\",\n",
    "            \"Email\":\"pdj@gmail.com\",\n",
    "        },\n",
    "        {\n",
    "            \"Name\":\"Rada\",\n",
    "            \"Email\":\"radajin@gmail.com\",\n",
    "        },\n",
    "    ])\n",
    "\n",
    "address = pd.DataFrame([\n",
    "        {\n",
    "            \"Address\":\"Seoul\",\n",
    "        },\n",
    "        {\n",
    "            \"Address\":\"Busan\",\n",
    "        },\n",
    "    ])\n",
    "\n",
    "print(name_age_df)\n",
    "print(address)\n",
    "\n",
    "# axis=1 width concat, axis=0 height concat\n",
    "pd.concat([name_age_df, address], axis=1)"
   ]
  },
  {
   "cell_type": "markdown",
   "metadata": {},
   "source": [
    "# 5. Iterrows (for)"
   ]
  },
  {
   "cell_type": "code",
   "execution_count": 71,
   "metadata": {
    "collapsed": false
   },
   "outputs": [
    {
     "name": "stdout",
     "output_type": "stream",
     "text": [
      "('Kakao', 0)\n",
      "------------------------------\n",
      "Age              30\n",
      "Name    A 회사 직원 (1)\n",
      "Name: (Kakao, 0), dtype: object\n",
      "==============================\n",
      "('Kakao', 1)\n",
      "------------------------------\n",
      "Age              28\n",
      "Name    A 회사 직원 (2)\n",
      "Name: (Kakao, 1), dtype: object\n",
      "==============================\n",
      "('Daum', 0)\n",
      "------------------------------\n",
      "Age              32\n",
      "Name    B 회사 직원 (1)\n",
      "Name: (Daum, 0), dtype: object\n",
      "==============================\n",
      "('Daum', 1)\n",
      "------------------------------\n",
      "Age              26\n",
      "Name    B 회사 직원 (2)\n",
      "Name: (Daum, 1), dtype: object\n",
      "==============================\n"
     ]
    }
   ],
   "source": [
    "for idx, row in ab_df.iterrows():\n",
    "    print(idx)\n",
    "    print(\"-\" * 30)\n",
    "    print(row)\n",
    "    print(\"=\" * 30)"
   ]
  },
  {
   "cell_type": "markdown",
   "metadata": {},
   "source": [
    "# 6. Groupby"
   ]
  },
  {
   "cell_type": "code",
   "execution_count": 75,
   "metadata": {
    "collapsed": false
   },
   "outputs": [
    {
     "data": {
      "text/html": [
       "<div>\n",
       "<table border=\"1\" class=\"dataframe\">\n",
       "  <thead>\n",
       "    <tr style=\"text-align: right;\">\n",
       "      <th></th>\n",
       "      <th>si</th>\n",
       "      <th>dong</th>\n",
       "    </tr>\n",
       "  </thead>\n",
       "  <tbody>\n",
       "    <tr>\n",
       "      <th>0</th>\n",
       "      <td>seoul</td>\n",
       "      <td>sinsa</td>\n",
       "    </tr>\n",
       "    <tr>\n",
       "      <th>1</th>\n",
       "      <td>seoul</td>\n",
       "      <td>mangwon</td>\n",
       "    </tr>\n",
       "    <tr>\n",
       "      <th>2</th>\n",
       "      <td>busan</td>\n",
       "      <td>1dong</td>\n",
       "    </tr>\n",
       "    <tr>\n",
       "      <th>3</th>\n",
       "      <td>busan</td>\n",
       "      <td>2dong</td>\n",
       "    </tr>\n",
       "    <tr>\n",
       "      <th>4</th>\n",
       "      <td>kyungki</td>\n",
       "      <td>suwon</td>\n",
       "    </tr>\n",
       "    <tr>\n",
       "      <th>5</th>\n",
       "      <td>kyungki</td>\n",
       "      <td>jungja</td>\n",
       "    </tr>\n",
       "  </tbody>\n",
       "</table>\n",
       "</div>"
      ],
      "text/plain": [
       "        si     dong\n",
       "0    seoul    sinsa\n",
       "1    seoul  mangwon\n",
       "2    busan    1dong\n",
       "3    busan    2dong\n",
       "4  kyungki    suwon\n",
       "5  kyungki   jungja"
      ]
     },
     "execution_count": 75,
     "metadata": {},
     "output_type": "execute_result"
    }
   ],
   "source": [
    "# make sample data\n",
    "df = pd.DataFrame(columns=[\"si\",\"dong\"])\n",
    "df.loc[len(df)] = [\"seoul\",\"sinsa\"]\n",
    "df.loc[len(df)] = [\"seoul\",\"mangwon\"]\n",
    "df.loc[len(df)] = [\"busan\",\"1dong\"]\n",
    "df.loc[len(df)] = [\"busan\",\"2dong\"]\n",
    "df.loc[len(df)] = [\"kyungki\",\"suwon\"]\n",
    "df.loc[len(df)] = [\"kyungki\",\"jungja\"]\n",
    "df"
   ]
  },
  {
   "cell_type": "code",
   "execution_count": 77,
   "metadata": {
    "collapsed": false
   },
   "outputs": [
    {
     "name": "stdout",
     "output_type": "stream",
     "text": [
      "['kyungki', 'busan', 'seoul']\n",
      "['seoul' 'busan' 'kyungki']\n"
     ]
    }
   ],
   "source": [
    "# unique (using python list, using numpy ndarray)\n",
    "list_df = list(set(list(groupby_df[\"si\"]))) # Python list\n",
    "print(list_df)\n",
    "\n",
    "list_df = df[\"si\"].unique() # numpy ndarray (bertter : fast)\n",
    "print(list_df)"
   ]
  },
  {
   "cell_type": "code",
   "execution_count": 82,
   "metadata": {
    "collapsed": false
   },
   "outputs": [
    {
     "name": "stdout",
     "output_type": "stream",
     "text": [
      "{'kyungki': [4, 5], 'busan': [2, 3], 'seoul': [0, 1]}\n"
     ]
    },
    {
     "data": {
      "text/html": [
       "<div>\n",
       "<table border=\"1\" class=\"dataframe\">\n",
       "  <thead>\n",
       "    <tr style=\"text-align: right;\">\n",
       "      <th></th>\n",
       "      <th>si</th>\n",
       "      <th>dong</th>\n",
       "    </tr>\n",
       "  </thead>\n",
       "  <tbody>\n",
       "    <tr>\n",
       "      <th>0</th>\n",
       "      <td>seoul</td>\n",
       "      <td>sinsa</td>\n",
       "    </tr>\n",
       "    <tr>\n",
       "      <th>1</th>\n",
       "      <td>seoul</td>\n",
       "      <td>mangwon</td>\n",
       "    </tr>\n",
       "  </tbody>\n",
       "</table>\n",
       "</div>"
      ],
      "text/plain": [
       "      si     dong\n",
       "0  seoul    sinsa\n",
       "1  seoul  mangwon"
      ]
     },
     "execution_count": 82,
     "metadata": {},
     "output_type": "execute_result"
    }
   ],
   "source": [
    "# groupby\n",
    "print(df.groupby(\"si\").groups)\n",
    "df.groupby(\"si\").get_group(\"seoul\")"
   ]
  },
  {
   "cell_type": "markdown",
   "metadata": {},
   "source": [
    "# 7. Merge"
   ]
  },
  {
   "cell_type": "code",
   "execution_count": 85,
   "metadata": {
    "collapsed": false
   },
   "outputs": [
    {
     "data": {
      "text/html": [
       "<div>\n",
       "<table border=\"1\" class=\"dataframe\">\n",
       "  <thead>\n",
       "    <tr style=\"text-align: right;\">\n",
       "      <th></th>\n",
       "      <th>Id</th>\n",
       "      <th>Name</th>\n",
       "      <th>Age</th>\n",
       "      <th>Signup Date</th>\n",
       "    </tr>\n",
       "  </thead>\n",
       "  <tbody>\n",
       "    <tr>\n",
       "      <th>0</th>\n",
       "      <td>1</td>\n",
       "      <td>Doojin</td>\n",
       "      <td>35</td>\n",
       "      <td>2016-01-01</td>\n",
       "    </tr>\n",
       "    <tr>\n",
       "      <th>1</th>\n",
       "      <td>2</td>\n",
       "      <td>Alad</td>\n",
       "      <td>28</td>\n",
       "      <td>2016-04-21</td>\n",
       "    </tr>\n",
       "    <tr>\n",
       "      <th>2</th>\n",
       "      <td>3</td>\n",
       "      <td>Rada</td>\n",
       "      <td>30</td>\n",
       "      <td>2016-03-12</td>\n",
       "    </tr>\n",
       "  </tbody>\n",
       "</table>\n",
       "</div>"
      ],
      "text/plain": [
       "  Id    Name Age Signup Date\n",
       "0  1  Doojin  35  2016-01-01\n",
       "1  2    Alad  28  2016-04-21\n",
       "2  3    Rada  30  2016-03-12"
      ]
     },
     "execution_count": 85,
     "metadata": {},
     "output_type": "execute_result"
    }
   ],
   "source": [
    "# make sample data (users)\n",
    "users_df = pd.DataFrame(columns=[\"Id\",\"Name\",\"Age\",\"Signup Date\"])\n",
    "users_df.loc[len(users_df)] = [str(len(users_df)+1), \"Doojin\", \"35\", \"2016-01-01\"]\n",
    "users_df.loc[len(users_df)] = [str(len(users_df)+1), \"Alad\", \"28\", \"2016-04-21\"]\n",
    "users_df.loc[len(users_df)] = [str(len(users_df)+1), \"Rada\", \"30\", \"2016-03-12\"]\n",
    "users_df"
   ]
  },
  {
   "cell_type": "code",
   "execution_count": 86,
   "metadata": {
    "collapsed": false
   },
   "outputs": [
    {
     "data": {
      "text/html": [
       "<div>\n",
       "<table border=\"1\" class=\"dataframe\">\n",
       "  <thead>\n",
       "    <tr style=\"text-align: right;\">\n",
       "      <th></th>\n",
       "      <th>UserId</th>\n",
       "      <th>Amount</th>\n",
       "      <th>Purchase Date</th>\n",
       "    </tr>\n",
       "  </thead>\n",
       "  <tbody>\n",
       "    <tr>\n",
       "      <th>0</th>\n",
       "      <td>1</td>\n",
       "      <td>4000</td>\n",
       "      <td>2016-01-02</td>\n",
       "    </tr>\n",
       "    <tr>\n",
       "      <th>1</th>\n",
       "      <td>3</td>\n",
       "      <td>14000</td>\n",
       "      <td>2016-05-03</td>\n",
       "    </tr>\n",
       "    <tr>\n",
       "      <th>2</th>\n",
       "      <td>2</td>\n",
       "      <td>8000</td>\n",
       "      <td>2016-04-29</td>\n",
       "    </tr>\n",
       "    <tr>\n",
       "      <th>3</th>\n",
       "      <td>2</td>\n",
       "      <td>42000</td>\n",
       "      <td>2016-04-04</td>\n",
       "    </tr>\n",
       "    <tr>\n",
       "      <th>4</th>\n",
       "      <td>2</td>\n",
       "      <td>23000</td>\n",
       "      <td>2016-03-05</td>\n",
       "    </tr>\n",
       "    <tr>\n",
       "      <th>5</th>\n",
       "      <td>1</td>\n",
       "      <td>2000</td>\n",
       "      <td>2016-02-02</td>\n",
       "    </tr>\n",
       "    <tr>\n",
       "      <th>6</th>\n",
       "      <td>3</td>\n",
       "      <td>9000</td>\n",
       "      <td>2016-05-25</td>\n",
       "    </tr>\n",
       "  </tbody>\n",
       "</table>\n",
       "</div>"
      ],
      "text/plain": [
       "  UserId Amount Purchase Date\n",
       "0      1   4000    2016-01-02\n",
       "1      3  14000    2016-05-03\n",
       "2      2   8000    2016-04-29\n",
       "3      2  42000    2016-04-04\n",
       "4      2  23000    2016-03-05\n",
       "5      1   2000    2016-02-02\n",
       "6      3   9000    2016-05-25"
      ]
     },
     "execution_count": 86,
     "metadata": {},
     "output_type": "execute_result"
    }
   ],
   "source": [
    "# make sample data (purchase)\n",
    "purchase_df = pd.DataFrame(columns=[\"UserId\", \"Amount\", \"Purchase Date\"])\n",
    "purchase_df.loc[len(purchase_df)] = [\"1\", \"4000\", \"2016-01-02\"]\n",
    "purchase_df.loc[len(purchase_df)] = [\"3\", \"14000\", \"2016-05-03\"]\n",
    "purchase_df.loc[len(purchase_df)] = [\"2\", \"8000\", \"2016-04-29\"]\n",
    "purchase_df.loc[len(purchase_df)] = [\"2\", \"42000\", \"2016-04-04\"]\n",
    "purchase_df.loc[len(purchase_df)] = [\"2\", \"23000\", \"2016-03-05\"]\n",
    "purchase_df.loc[len(purchase_df)] = [\"1\", \"2000\", \"2016-02-02\"]\n",
    "purchase_df.loc[len(purchase_df)] = [\"3\", \"9000\", \"2016-05-25\"]\n",
    "purchase_df"
   ]
  },
  {
   "cell_type": "code",
   "execution_count": 93,
   "metadata": {
    "collapsed": false
   },
   "outputs": [
    {
     "data": {
      "text/html": [
       "<div>\n",
       "<table border=\"1\" class=\"dataframe\">\n",
       "  <thead>\n",
       "    <tr style=\"text-align: right;\">\n",
       "      <th></th>\n",
       "      <th>Id</th>\n",
       "      <th>Amount</th>\n",
       "      <th>Purchase Date</th>\n",
       "      <th>Name</th>\n",
       "      <th>Age</th>\n",
       "      <th>Signup Date</th>\n",
       "    </tr>\n",
       "  </thead>\n",
       "  <tbody>\n",
       "    <tr>\n",
       "      <th>0</th>\n",
       "      <td>1</td>\n",
       "      <td>4000</td>\n",
       "      <td>2016-01-02</td>\n",
       "      <td>Doojin</td>\n",
       "      <td>35</td>\n",
       "      <td>2016-01-01</td>\n",
       "    </tr>\n",
       "    <tr>\n",
       "      <th>1</th>\n",
       "      <td>1</td>\n",
       "      <td>2000</td>\n",
       "      <td>2016-02-02</td>\n",
       "      <td>Doojin</td>\n",
       "      <td>35</td>\n",
       "      <td>2016-01-01</td>\n",
       "    </tr>\n",
       "    <tr>\n",
       "      <th>2</th>\n",
       "      <td>3</td>\n",
       "      <td>14000</td>\n",
       "      <td>2016-05-03</td>\n",
       "      <td>Rada</td>\n",
       "      <td>30</td>\n",
       "      <td>2016-03-12</td>\n",
       "    </tr>\n",
       "    <tr>\n",
       "      <th>3</th>\n",
       "      <td>3</td>\n",
       "      <td>9000</td>\n",
       "      <td>2016-05-25</td>\n",
       "      <td>Rada</td>\n",
       "      <td>30</td>\n",
       "      <td>2016-03-12</td>\n",
       "    </tr>\n",
       "    <tr>\n",
       "      <th>4</th>\n",
       "      <td>2</td>\n",
       "      <td>8000</td>\n",
       "      <td>2016-04-29</td>\n",
       "      <td>Alad</td>\n",
       "      <td>28</td>\n",
       "      <td>2016-04-21</td>\n",
       "    </tr>\n",
       "    <tr>\n",
       "      <th>5</th>\n",
       "      <td>2</td>\n",
       "      <td>42000</td>\n",
       "      <td>2016-04-04</td>\n",
       "      <td>Alad</td>\n",
       "      <td>28</td>\n",
       "      <td>2016-04-21</td>\n",
       "    </tr>\n",
       "    <tr>\n",
       "      <th>6</th>\n",
       "      <td>2</td>\n",
       "      <td>23000</td>\n",
       "      <td>2016-03-05</td>\n",
       "      <td>Alad</td>\n",
       "      <td>28</td>\n",
       "      <td>2016-04-21</td>\n",
       "    </tr>\n",
       "  </tbody>\n",
       "</table>\n",
       "</div>"
      ],
      "text/plain": [
       "  Id Amount Purchase Date    Name Age Signup Date\n",
       "0  1   4000    2016-01-02  Doojin  35  2016-01-01\n",
       "1  1   2000    2016-02-02  Doojin  35  2016-01-01\n",
       "2  3  14000    2016-05-03    Rada  30  2016-03-12\n",
       "3  3   9000    2016-05-25    Rada  30  2016-03-12\n",
       "4  2   8000    2016-04-29    Alad  28  2016-04-21\n",
       "5  2  42000    2016-04-04    Alad  28  2016-04-21\n",
       "6  2  23000    2016-03-05    Alad  28  2016-04-21"
      ]
     },
     "execution_count": 93,
     "metadata": {},
     "output_type": "execute_result"
    }
   ],
   "source": [
    "# merge (different key : UserId, Id)\n",
    "purchase_df.merge(users_df, left_on=\"UserId\", right_on=\"Id\")[[\"Id\", \"Amount\", \"Purchase Date\", \"Name\", \"Age\", \"Signup Date\"]]"
   ]
  },
  {
   "cell_type": "code",
   "execution_count": 94,
   "metadata": {
    "collapsed": false
   },
   "outputs": [
    {
     "data": {
      "text/html": [
       "<div>\n",
       "<table border=\"1\" class=\"dataframe\">\n",
       "  <thead>\n",
       "    <tr style=\"text-align: right;\">\n",
       "      <th></th>\n",
       "      <th>UserId</th>\n",
       "      <th>Amount</th>\n",
       "      <th>Purchase Date</th>\n",
       "      <th>Name</th>\n",
       "      <th>Age</th>\n",
       "      <th>Signup Date</th>\n",
       "    </tr>\n",
       "  </thead>\n",
       "  <tbody>\n",
       "    <tr>\n",
       "      <th>0</th>\n",
       "      <td>1</td>\n",
       "      <td>4000</td>\n",
       "      <td>2016-01-02</td>\n",
       "      <td>Doojin</td>\n",
       "      <td>35</td>\n",
       "      <td>2016-01-01</td>\n",
       "    </tr>\n",
       "    <tr>\n",
       "      <th>1</th>\n",
       "      <td>1</td>\n",
       "      <td>2000</td>\n",
       "      <td>2016-02-02</td>\n",
       "      <td>Doojin</td>\n",
       "      <td>35</td>\n",
       "      <td>2016-01-01</td>\n",
       "    </tr>\n",
       "    <tr>\n",
       "      <th>2</th>\n",
       "      <td>3</td>\n",
       "      <td>14000</td>\n",
       "      <td>2016-05-03</td>\n",
       "      <td>Rada</td>\n",
       "      <td>30</td>\n",
       "      <td>2016-03-12</td>\n",
       "    </tr>\n",
       "    <tr>\n",
       "      <th>3</th>\n",
       "      <td>3</td>\n",
       "      <td>9000</td>\n",
       "      <td>2016-05-25</td>\n",
       "      <td>Rada</td>\n",
       "      <td>30</td>\n",
       "      <td>2016-03-12</td>\n",
       "    </tr>\n",
       "    <tr>\n",
       "      <th>4</th>\n",
       "      <td>2</td>\n",
       "      <td>8000</td>\n",
       "      <td>2016-04-29</td>\n",
       "      <td>Alad</td>\n",
       "      <td>28</td>\n",
       "      <td>2016-04-21</td>\n",
       "    </tr>\n",
       "    <tr>\n",
       "      <th>5</th>\n",
       "      <td>2</td>\n",
       "      <td>42000</td>\n",
       "      <td>2016-04-04</td>\n",
       "      <td>Alad</td>\n",
       "      <td>28</td>\n",
       "      <td>2016-04-21</td>\n",
       "    </tr>\n",
       "    <tr>\n",
       "      <th>6</th>\n",
       "      <td>2</td>\n",
       "      <td>23000</td>\n",
       "      <td>2016-03-05</td>\n",
       "      <td>Alad</td>\n",
       "      <td>28</td>\n",
       "      <td>2016-04-21</td>\n",
       "    </tr>\n",
       "  </tbody>\n",
       "</table>\n",
       "</div>"
      ],
      "text/plain": [
       "  UserId Amount Purchase Date    Name Age Signup Date\n",
       "0      1   4000    2016-01-02  Doojin  35  2016-01-01\n",
       "1      1   2000    2016-02-02  Doojin  35  2016-01-01\n",
       "2      3  14000    2016-05-03    Rada  30  2016-03-12\n",
       "3      3   9000    2016-05-25    Rada  30  2016-03-12\n",
       "4      2   8000    2016-04-29    Alad  28  2016-04-21\n",
       "5      2  42000    2016-04-04    Alad  28  2016-04-21\n",
       "6      2  23000    2016-03-05    Alad  28  2016-04-21"
      ]
     },
     "execution_count": 94,
     "metadata": {},
     "output_type": "execute_result"
    }
   ],
   "source": [
    "# rename column\n",
    "rename_users_df = users_df.rename(columns={\"Id\":\"UserId\"}) \n",
    "\n",
    "# merge (different same key : UserId)\n",
    "pd.merge(purchase_df, rename_users_df)[[\"UserId\", \"Amount\", \"Purchase Date\", \"Name\", \"Age\", \"Signup Date\"]]"
   ]
  },
  {
   "cell_type": "markdown",
   "metadata": {},
   "source": [
    "# 8. File Input Output"
   ]
  },
  {
   "cell_type": "code",
   "execution_count": 110,
   "metadata": {
    "collapsed": false
   },
   "outputs": [
    {
     "data": {
      "text/html": [
       "<div>\n",
       "<table border=\"1\" class=\"dataframe\">\n",
       "  <thead>\n",
       "    <tr style=\"text-align: right;\">\n",
       "      <th></th>\n",
       "      <th>Age</th>\n",
       "      <th>Name</th>\n",
       "    </tr>\n",
       "  </thead>\n",
       "  <tbody>\n",
       "    <tr>\n",
       "      <th>0</th>\n",
       "      <td>35</td>\n",
       "      <td>Doojin</td>\n",
       "    </tr>\n",
       "    <tr>\n",
       "      <th>1</th>\n",
       "      <td>31</td>\n",
       "      <td>Hyojin</td>\n",
       "    </tr>\n",
       "    <tr>\n",
       "      <th>2</th>\n",
       "      <td>30</td>\n",
       "      <td>Rada</td>\n",
       "    </tr>\n",
       "  </tbody>\n",
       "</table>\n",
       "</div>"
      ],
      "text/plain": [
       "   Age    Name\n",
       "0   35  Doojin\n",
       "1   31  Hyojin\n",
       "2   30    Rada"
      ]
     },
     "execution_count": 110,
     "metadata": {},
     "output_type": "execute_result"
    }
   ],
   "source": [
    "# make sample data\n",
    "df = pd.DataFrame([{\"Name\":\"Doojin\", \"Age\":35}, {\"Name\":\"Hyojin\", \"Age\":31}, {\"Name\":\"Rada\", \"Age\":30}])\n",
    "df"
   ]
  },
  {
   "cell_type": "code",
   "execution_count": 111,
   "metadata": {
    "collapsed": true
   },
   "outputs": [],
   "source": [
    "# input DataFrame to csv and Save\n",
    "df.to_csv(\"./sample.csv\", index=False)"
   ]
  },
  {
   "cell_type": "code",
   "execution_count": 112,
   "metadata": {
    "collapsed": false
   },
   "outputs": [
    {
     "data": {
      "text/html": [
       "<div>\n",
       "<table border=\"1\" class=\"dataframe\">\n",
       "  <thead>\n",
       "    <tr style=\"text-align: right;\">\n",
       "      <th></th>\n",
       "      <th>Age</th>\n",
       "      <th>Name</th>\n",
       "    </tr>\n",
       "  </thead>\n",
       "  <tbody>\n",
       "    <tr>\n",
       "      <th>0</th>\n",
       "      <td>35</td>\n",
       "      <td>Doojin</td>\n",
       "    </tr>\n",
       "    <tr>\n",
       "      <th>1</th>\n",
       "      <td>31</td>\n",
       "      <td>Hyojin</td>\n",
       "    </tr>\n",
       "    <tr>\n",
       "      <th>2</th>\n",
       "      <td>30</td>\n",
       "      <td>Rada</td>\n",
       "    </tr>\n",
       "  </tbody>\n",
       "</table>\n",
       "</div>"
      ],
      "text/plain": [
       "   Age    Name\n",
       "0   35  Doojin\n",
       "1   31  Hyojin\n",
       "2   30    Rada"
      ]
     },
     "execution_count": 112,
     "metadata": {},
     "output_type": "execute_result"
    }
   ],
   "source": [
    "# Output csv to DataFrame\n",
    "df = pd.read_csv(\"./sample.csv\")\n",
    "df"
   ]
  },
  {
   "cell_type": "code",
   "execution_count": 113,
   "metadata": {
    "collapsed": false
   },
   "outputs": [
    {
     "data": {
      "text/html": [
       "<div>\n",
       "<table border=\"1\" class=\"dataframe\">\n",
       "  <thead>\n",
       "    <tr style=\"text-align: right;\">\n",
       "      <th></th>\n",
       "      <th>나이</th>\n",
       "      <th>이름</th>\n",
       "    </tr>\n",
       "  </thead>\n",
       "  <tbody>\n",
       "    <tr>\n",
       "      <th>0</th>\n",
       "      <td>35</td>\n",
       "      <td>Doojin</td>\n",
       "    </tr>\n",
       "    <tr>\n",
       "      <th>1</th>\n",
       "      <td>31</td>\n",
       "      <td>Hyojin</td>\n",
       "    </tr>\n",
       "    <tr>\n",
       "      <th>2</th>\n",
       "      <td>30</td>\n",
       "      <td>Rada</td>\n",
       "    </tr>\n",
       "  </tbody>\n",
       "</table>\n",
       "</div>"
      ],
      "text/plain": [
       "   나이      이름\n",
       "0  35  Doojin\n",
       "1  31  Hyojin\n",
       "2  30    Rada"
      ]
     },
     "execution_count": 113,
     "metadata": {},
     "output_type": "execute_result"
    }
   ],
   "source": [
    "# rename columns\n",
    "df.rename(columns={\"Age\":\"나이\",\"Name\":\"이름\"}, inplace=True)\n",
    "df"
   ]
  },
  {
   "cell_type": "code",
   "execution_count": 115,
   "metadata": {
    "collapsed": false
   },
   "outputs": [
    {
     "data": {
      "text/html": [
       "<div>\n",
       "<table border=\"1\" class=\"dataframe\">\n",
       "  <thead>\n",
       "    <tr style=\"text-align: right;\">\n",
       "      <th></th>\n",
       "      <th>나이</th>\n",
       "      <th>이름</th>\n",
       "    </tr>\n",
       "  </thead>\n",
       "  <tbody>\n",
       "    <tr>\n",
       "      <th>0</th>\n",
       "      <td>35</td>\n",
       "      <td>Doojin</td>\n",
       "    </tr>\n",
       "    <tr>\n",
       "      <th>1</th>\n",
       "      <td>31</td>\n",
       "      <td>Hyojin</td>\n",
       "    </tr>\n",
       "  </tbody>\n",
       "</table>\n",
       "</div>"
      ],
      "text/plain": [
       "   나이      이름\n",
       "0  35  Doojin\n",
       "1  31  Hyojin"
      ]
     },
     "execution_count": 115,
     "metadata": {},
     "output_type": "execute_result"
    }
   ],
   "source": [
    "# string contains\n",
    "is_contain = df[\"이름\"].str.contains(\"jin\")\n",
    "df[is_contain]"
   ]
  },
  {
   "cell_type": "code",
   "execution_count": 121,
   "metadata": {
    "collapsed": false
   },
   "outputs": [
    {
     "data": {
      "text/html": [
       "<div>\n",
       "<table border=\"1\" class=\"dataframe\">\n",
       "  <thead>\n",
       "    <tr style=\"text-align: right;\">\n",
       "      <th></th>\n",
       "      <th>나이</th>\n",
       "      <th>이름</th>\n",
       "    </tr>\n",
       "  </thead>\n",
       "  <tbody>\n",
       "    <tr>\n",
       "      <th>0</th>\n",
       "      <td>35</td>\n",
       "      <td>Doojin</td>\n",
       "    </tr>\n",
       "    <tr>\n",
       "      <th>1</th>\n",
       "      <td>31</td>\n",
       "      <td>Hyojin</td>\n",
       "    </tr>\n",
       "    <tr>\n",
       "      <th>2</th>\n",
       "      <td>30</td>\n",
       "      <td>Rada</td>\n",
       "    </tr>\n",
       "  </tbody>\n",
       "</table>\n",
       "</div>"
      ],
      "text/plain": [
       "   나이      이름\n",
       "0  35  Doojin\n",
       "1  31  Hyojin\n",
       "2  30    Rada"
      ]
     },
     "execution_count": 121,
     "metadata": {},
     "output_type": "execute_result"
    }
   ],
   "source": [
    "# sorting\n",
    "# ascending (True : 오름차순(default), False : 내림차순)\n",
    "df.sort_values(\"나이\", ascending=True).reset_index(drop=True, inplace=True)\n",
    "df"
   ]
  },
  {
   "cell_type": "code",
   "execution_count": null,
   "metadata": {
    "collapsed": true
   },
   "outputs": [],
   "source": []
  }
 ],
 "metadata": {
  "kernelspec": {
   "display_name": "Python 3",
   "language": "python",
   "name": "python3"
  },
  "language_info": {
   "codemirror_mode": {
    "name": "ipython",
    "version": 3
   },
   "file_extension": ".py",
   "mimetype": "text/x-python",
   "name": "python",
   "nbconvert_exporter": "python",
   "pygments_lexer": "ipython3",
   "version": "3.5.1"
  }
 },
 "nbformat": 4,
 "nbformat_minor": 0
}
